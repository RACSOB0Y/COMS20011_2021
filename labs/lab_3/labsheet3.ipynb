{
 "cells": [
  {
   "cell_type": "markdown",
   "metadata": {},
   "source": [
    "# Lab 3: Least Squares Method \n",
    "\n",
    "\n",
    "## Introduction\n",
    "In this lab we will introduce you to the least squares method which is used to reconstruct a line (i.e. find its parameters) from a series of points. \n",
    "\n",
    "This lab also serves as an introduction to the CW1: Unknown Signal, which will require you to extend the least squares method to non-linear applications.\n",
    "\n",
    "As always we'll begin by importing the necessary modules for the lab."
   ]
  },
  {
   "cell_type": "code",
   "execution_count": 1,
   "metadata": {
    "collapsed": true
   },
   "outputs": [],
   "source": [
    "from __future__ import print_function # to avoid issues between Python 2 and 3 printing\n",
    "\n",
    "import numpy as np\n",
    "from skimage import data, io, color, transform, exposure\n",
    "from scipy import stats\n",
    "import matplotlib.pyplot as plt\n",
    "\n",
    "# show matplotlib figures inline\n",
    "%matplotlib inline"
   ]
  },
  {
   "cell_type": "code",
   "execution_count": 2,
   "metadata": {
    "collapsed": true
   },
   "outputs": [],
   "source": [
    "# By default we set figures to be 6\"x4\" on a 110 dots per inch (DPI) screen \n",
    "# (adjust DPI if you have a high res screen!)\n",
    "plt.rc('figure', figsize=(6, 4), dpi=110)\n",
    "plt.rc('font', size=10)"
   ]
  },
  {
   "cell_type": "markdown",
   "metadata": {},
   "source": [
    "## 1.  Get some numbers\n",
    "\n",
    "We'll begin by generating a series of points from a given equation with noise applied.\n",
    "\n",
    "Generate a sequence of 10 numbers, using the following equation\n",
    "\n",
    "$$\n",
    "y_i=0.2+0.5x_i+e_i\n",
    "$$\n",
    "\n",
    "where $x_i$ is a *uniformly distributed* random number between 0 and 1 and $e_i$ is a *random* number from $\\mathcal{N}(\\mu = 0, \\sigma^2 = 0.01)$."
   ]
  },
  {
   "cell_type": "code",
   "execution_count": 3,
   "metadata": {},
   "outputs": [
    {
     "name": "stdout",
     "output_type": "stream",
     "text": [
      "[ 0.61934317  0.36397464  0.35798696  0.14649868  0.00785275  0.81357675\n",
      "  0.51094737  0.9805694   0.86311575  0.18203197]\n",
      "[ 0.36511224  0.44425836  0.3805696   0.19720057  0.17736498  0.64101824\n",
      "  0.46120949  0.68742868  0.60031126  0.19271729]\n"
     ]
    }
   ],
   "source": [
    "# write your code here\n",
    "n = 10\n",
    "xs = np.random.uniform(0,1,10)\n",
    "ys = 0.2 + 0.5 * xs + (np.sqrt(0.01) * np.random.randn(n))\n",
    "print(xs)\n",
    "print(ys)"
   ]
  },
  {
   "cell_type": "markdown",
   "metadata": {},
   "source": [
    "Generate a scatter plot of $y_i$ versus $x_i$."
   ]
  },
  {
   "cell_type": "code",
   "execution_count": 4,
   "metadata": {},
   "outputs": [
    {
     "data": {
      "image/png": "[encoded data removed]",
      "text/plain": [
       "<matplotlib.figure.Figure at 0x7f731d4fa898>"
      ]
     },
     "metadata": {},
     "output_type": "display_data"
    }
   ],
   "source": [
    "# write your code here\n",
    "fig1, ax1 = plt.subplots()\n",
    "ax1.scatter( xs, ys, s=5)\n",
    "plt.show()\n"
   ]
  },
  {
   "cell_type": "markdown",
   "metadata": {},
   "source": [
    "## 2. Create a general function\n",
    "\n",
    "Change the above code to a function that receives the parameters $a$, $b$ and $n$ for the equation $y_i = a + b x_i + e_i$ and returns $n$ samples as shown in the previous exercise.  \n",
    "\n",
    "Use the code to generate 100 samples from the equation above and visualise them."
   ]
  },
  {
   "cell_type": "code",
   "execution_count": 5,
   "metadata": {},
   "outputs": [
    {
     "data": {
      "image/png": "[encoded data removed]",
      "text/plain": [
       "<matplotlib.figure.Figure at 0x7f73164b2c50>"
      ]
     },
     "metadata": {},
     "output_type": "display_data"
    }
   ],
   "source": [
    "def dist(a=0.2, b=0.5, n=10):\n",
    "    xs = np.random.uniform(0,1,n)\n",
    "    ys = a + b * xs + (np.sqrt(0.1) * np.random.randn(n))\n",
    "    return xs, ys\n",
    "\n",
    "x, y = dist(1,0.5,100)\n",
    "fig1, ax1 = plt.subplots()\n",
    "ax1.scatter( x, y, s=5)\n",
    "plt.show()"
   ]
  },
  {
   "cell_type": "markdown",
   "metadata": {},
   "source": [
    "## 3. Least squares ##\n",
    "Using the sequences ${y_i}$ and ${x_i}$ from **2**, implement the matrix form of the least squares method to determine estimates of the parameters $a$ and $b$ (which we denote as $a'$ and $b'$) assuming that $y_i=a+bx_i$.\n",
    "\n",
    "**Hints**\n",
    "* The formula for the matrix form of least squares is given by: $A=(X^T.X)^{-1}.X^T.Y$ where $A=[a',b']$.\n",
    "* It is important that you keep track of the dimensions of your matrices, especially $X$. Remember that $X^T \\cdot X$ should give a 2x2 matrix.\n",
    "* Because of the equation being in the form of $y_i=a+bx_i$ the first column of X should be all 1s.\n",
    "* You don't need to use your code for matrix inverse and can instead use the function `np.linalg.inv`."
   ]
  },
  {
   "cell_type": "code",
   "execution_count": 6,
   "metadata": {},
   "outputs": [
    {
     "name": "stdout",
     "output_type": "stream",
     "text": [
      "(100, 2)\n",
      "(100,)\n",
      "[ 0.98218219  0.4757477 ]\n"
     ]
    }
   ],
   "source": [
    "# write your code here\n",
    "def col1s(xs, c=0):\n",
    "    newX = []\n",
    "    for x in xs:\n",
    "        newX.append([1.,x])\n",
    "    return np.array(newX)\n",
    "\n",
    "X = col1s(x)\n",
    "Y = y.T\n",
    "print(X.shape)\n",
    "print(Y.shape)\n",
    "A = np.linalg.inv(X.T @ X) @ X.T @ Y\n",
    "print(A)"
   ]
  },
  {
   "cell_type": "markdown",
   "metadata": {},
   "source": [
    "### Why aren't the values of a and b the same as in the original equation?"
   ]
  },
  {
   "cell_type": "markdown",
   "metadata": {},
   "source": [
    "## 4. Line fitting and plotting\n",
    "\n",
    "Draw the line defined by the estimated values of $a'$ and $b'$ on top of the scatter plot generated in point **2**."
   ]
  },
  {
   "cell_type": "code",
   "execution_count": 7,
   "metadata": {},
   "outputs": [
    {
     "data": {
      "text/plain": [
       "[<matplotlib.lines.Line2D at 0x7f7316986cf8>]"
      ]
     },
     "execution_count": 7,
     "metadata": {},
     "output_type": "execute_result"
    },
    {
     "data": {
      "image/png": "[encoded data removed]",
      "text/plain": [
       "<matplotlib.figure.Figure at 0x7f7316986eb8>"
      ]
     },
     "metadata": {},
     "output_type": "display_data"
    }
   ],
   "source": [
    "# write your code here\n",
    "\n",
    "fig, ax = plt.subplots()\n",
    "ax.set_xlabel(\"$x_\\i$\")\n",
    "ax.set_ylabel(\"$y_\\i$\")\n",
    "ax.scatter(x, y, label=\"data\", s=5)\n",
    "ax.plot(x, X@A, 'g', label=\"fitted line\")\n"
   ]
  },
  {
   "cell_type": "markdown",
   "metadata": {},
   "source": [
    "## 5. Outliers\n",
    "\n",
    "Add a few outliers to your data. For example, add the points $\\{(0.5, 5), (0.6, 5), (0.7, 5)\\}$ to the sampled sequences from **2**.\n",
    "\n",
    "Re-estimate the best line that fits the data after the addition of the outliers.\n",
    "\n",
    "Plot the best fit line before and after the outlier data, in a way similar to the figure below (including the colouring and the legend).\n",
    "\n",
    "\n",
    "### Hint\n",
    "* Both `plot` and `scatter` have an optional parameter label which allows you to label each series for the legend.\n",
    "* Both `plot` and `scatter` have an optional parameter c which can be passed a colour, e.g. `c='r'` will set the colour to red.\n",
    "* `ax.legend` will create a legend automatically as long as your series have been labelled.\n",
    "\n",
    "![Line fit](lineFit.jpg)"
   ]
  },
  {
   "cell_type": "code",
   "execution_count": 8,
   "metadata": {},
   "outputs": [
    {
     "name": "stdout",
     "output_type": "stream",
     "text": [
      "[ 1.03419376  0.58733173]\n"
     ]
    },
    {
     "data": {
      "image/png": "[encoded data removed]",
      "text/plain": [
       "<matplotlib.figure.Figure at 0x7f7310c56080>"
      ]
     },
     "metadata": {},
     "output_type": "display_data"
    }
   ],
   "source": [
    "# write your code here\n",
    "fig, ax = plt.subplots()\n",
    "ax.set_xlabel(\"$x_\\i$\")\n",
    "ax.set_ylabel(\"$y_\\i$\")\n",
    "ax.scatter(x, y, label=\"data\", s=5)\n",
    "ax.plot(x, X@A, 'g', label=\"fitted line\")\n",
    "oX = [0.5, 0.6, 0.7]\n",
    "oY = [5, 5, 5]\n",
    "xO = np.concatenate([x, oX])\n",
    "yO = np.concatenate([y, oY])\n",
    "Xo = col1s(xO,0)\n",
    "Yo = yO.T\n",
    "oA = np.linalg.inv(Xo.T @ Xo) @ Xo.T @ Yo\n",
    "print(oA)\n",
    "\n",
    "\n",
    "ax.scatter(oX, oY, label=\"outliers\", s=5)\n",
    "ax.plot(xO, Xo@oA, 'r', label=\"unfitted\")\n",
    "ax.legend();"
   ]
  },
  {
   "cell_type": "markdown",
   "metadata": {},
   "source": [
    "## 6. Calculating the error\n",
    "\n",
    "We can now calculate the error in the predicted line using sum squared error (which is what least squares regression is minimising).\n",
    "\n",
    "Calculate the error of the best fit line and the best fit line with outliers.\n",
    "\n",
    "**Hint**\n",
    "* The sum squared error formula is $\\sum_i (\\hat{y}_i - y_i)^2$ where $\\hat{y}_i = a + bx_i$."
   ]
  },
  {
   "cell_type": "code",
   "execution_count": 9,
   "metadata": {
    "scrolled": true
   },
   "outputs": [
    {
     "name": "stdout",
     "output_type": "stream",
     "text": [
      "10.765992294\n",
      "51.2312899054\n"
     ]
    }
   ],
   "source": [
    "# write your code here\n",
    "def sse(ys, yhs):\n",
    "    s = 0\n",
    "    for i in range(len(ys)):\n",
    "        s += (yhs[i] - ys[i])**2\n",
    "    return s\n",
    "\n",
    "print(sse(X@A, Y))\n",
    "print(sse(Xo@oA, Yo))"
   ]
  },
  {
   "cell_type": "markdown",
   "metadata": {},
   "source": [
    "## 7. Moving to a non-linear system\n",
    "\n",
    "So far we have been using the least squares method only to find the line of best fit for linear equations, however it can be extended quite easily to certain non-linear lines.\n",
    "\n",
    "Adapting this method lies in the creation of the $X$ matrix. The matrix we construct has two columns, the first a column of ones and the second a column of x values. Note how each column represents a function applied to x: $x^0$, $x^1$.\n",
    "\n",
    "If we were instead given the function $y = a + be^x$ to apply the least squares method we can just modify how we define $X$: instead of the second column including $x^1$ we can insert $e^x$.\n",
    "\n",
    "Given the set of points below, calculate $a$ and $b$ assuming they fit an exponential curve.\n",
    "### Hint\n",
    "* `np.exp(new_x)` will define the new column to add."
   ]
  },
  {
   "cell_type": "code",
   "execution_count": 10,
   "metadata": {},
   "outputs": [
    {
     "name": "stdout",
     "output_type": "stream",
     "text": [
      "[ 0.39780844  1.10035113]\n"
     ]
    }
   ],
   "source": [
    "new_x = np.array([-5, -4, -2, -1.5, -0.5, 0.5, 0.75, 1, 1.3, 1.9, 2.1, 2.4, 2.8, 3, 3.2])\n",
    "new_y = np.array([0.407, 0.42, 0.549, 0.645, 1.07, 2.21, 2.73, 3.39, 4.44, 7.75, 9.38, 12.5, 18.5, 22.5, 27.4])\n",
    "\n",
    "# write your code here\n",
    "nX = np.exp(new_x)\n",
    "X = col1s(nX)\n",
    "Y = new_y\n",
    "A = np.linalg.inv(X.T @ X) @ X.T @ Y\n",
    "print(A)"
   ]
  },
  {
   "cell_type": "markdown",
   "metadata": {},
   "source": [
    "### Visualising the result\n",
    "We can now visualise the fitted line as a figure as before using `plot`. Due to the non-linear nature of the equation we can use `np.linspace(-5, 3.2, 100)` which returns 100 evenly spaced numbers in the interval between -5 and 3.2. \n",
    "\n",
    "Create a graph plotting both the original points and the fitted line as below:\n",
    "![Exp line fit](exp_line_fit.png)"
   ]
  },
  {
   "cell_type": "code",
   "execution_count": 11,
   "metadata": {},
   "outputs": [
    {
     "data": {
      "image/png": "[encoded data removed]",
      "text/plain": [
       "<matplotlib.figure.Figure at 0x7f7310b53ba8>"
      ]
     },
     "metadata": {},
     "output_type": "display_data"
    }
   ],
   "source": [
    "# write your code here\n",
    "fig, ax = plt.subplots()\n",
    "np.linspace(-5, 3.2, 100)\n",
    "ax.scatter(new_x, new_y, label=\"data\")\n",
    "ax.plot(new_x, X@A, 'r', label=\"fitted line\");"
   ]
  },
  {
   "cell_type": "markdown",
   "metadata": {},
   "source": [
    "### What other types of functions can we extend this to?\n",
    "\n",
    "For example why can't we fit to the function $y=a \\cdot e^{bx}$?"
   ]
  },
  {
   "cell_type": "code",
   "execution_count": null,
   "metadata": {
    "collapsed": true
   },
   "outputs": [],
   "source": []
  },
  {
   "cell_type": "code",
   "execution_count": null,
   "metadata": {
    "collapsed": true
   },
   "outputs": [],
   "source": []
  }
 ],
 "metadata": {
  "kernelspec": {
   "display_name": "Python 3",
   "language": "python",
   "name": "python3"
  },
  "language_info": {
   "codemirror_mode": {
    "name": "ipython",
    "version": 3
   },
   "file_extension": ".py",
   "mimetype": "text/x-python",
   "name": "python",
   "nbconvert_exporter": "python",
   "pygments_lexer": "ipython3",
   "version": "3.6.1"
  }
 },
 "nbformat": 4,
 "nbformat_minor": 1
}
